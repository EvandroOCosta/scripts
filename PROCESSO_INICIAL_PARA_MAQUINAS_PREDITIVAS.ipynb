{
  "nbformat": 4,
  "nbformat_minor": 0,
  "metadata": {
    "colab": {
      "provenance": [],
      "authorship_tag": "ABX9TyPlEyTHcdoWr8QWM85elrU9",
      "include_colab_link": true
    },
    "kernelspec": {
      "name": "python3",
      "display_name": "Python 3"
    },
    "language_info": {
      "name": "python"
    }
  },
  "cells": [
    {
      "cell_type": "markdown",
      "metadata": {
        "id": "view-in-github",
        "colab_type": "text"
      },
      "source": [
        "<a href=\"https://colab.research.google.com/github/EvandroOCosta/scripts/blob/main/PROCESSO_INICIAL_PARA_MAQUINAS_PREDITIVAS.ipynb\" target=\"_parent\"><img src=\"https://colab.research.google.com/assets/colab-badge.svg\" alt=\"Open In Colab\"/></a>"
      ]
    },
    {
      "cell_type": "markdown",
      "source": [
        "1 - ENTENDER O PROBLEMA DO NEGÓCIO"
      ],
      "metadata": {
        "id": "KZEmBW5ApT0r"
      }
    },
    {
      "cell_type": "markdown",
      "source": [
        "2 - ANÁLISE EXPLORATÓRIA DOS DADOS"
      ],
      "metadata": {
        "id": "sNFw8yZkpcAi"
      }
    },
    {
      "cell_type": "markdown",
      "source": [
        "3 - PRÉ-PROCESSAMENTO DOS DADOS"
      ],
      "metadata": {
        "id": "YAgJcO2_pjA-"
      }
    },
    {
      "cell_type": "markdown",
      "source": [
        "4 - CONSTRUÇÃO DA MÁQUINA PREDITIVA"
      ],
      "metadata": {
        "id": "eHPAjO_Vpl2A"
      }
    },
    {
      "cell_type": "markdown",
      "source": [
        "5 - AVALIAR A MÁQUINA PREDITIVA"
      ],
      "metadata": {
        "id": "7FxUOIuwpr1_"
      }
    }
  ]
}