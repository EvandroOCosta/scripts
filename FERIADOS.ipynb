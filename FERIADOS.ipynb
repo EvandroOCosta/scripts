{
 "cells": [
  {
   "cell_type": "markdown",
   "metadata": {},
   "source": [
    "## Feriados e Dias Úteis com Python"
   ]
  },
  {
   "cell_type": "code",
   "execution_count": null,
   "metadata": {},
   "outputs": [
    {
     "ename": "",
     "evalue": "",
     "output_type": "error",
     "traceback": [
      "\u001b[1;31mRunning cells with 'c:\\Users\\Evandro Costa\\AppData\\Local\\Microsoft\\WindowsApps\\python3.11.exe' requires the ipykernel package.\n",
      "\u001b[1;31mRun the following command to install 'ipykernel' into the Python environment. \n",
      "\u001b[1;31mCommand: '\"c:/Users/Evandro Costa/AppData/Local/Microsoft/WindowsApps/python3.11.exe\" -m pip install ipykernel -U --user --force-reinstall'"
     ]
    }
   ],
   "source": [
    "import holidays\n",
    "\n",
    "feriados = holidays.country_holidays(\"BR\", subdiv=\"RJ\")\n",
    "feriados_2024 = feriados[\"2024-01-01\":\"2024-12-31\"]\n",
    "\n",
    "for feriado in feriados_2024:\n",
    "    print(feriado)\n",
    "print(len(feriados_2024))    "
   ]
  },
  {
   "cell_type": "code",
   "execution_count": 14,
   "metadata": {},
   "outputs": [
    {
     "data": {
      "text/html": [
       "<div>\n",
       "<style scoped>\n",
       "    .dataframe tbody tr th:only-of-type {\n",
       "        vertical-align: middle;\n",
       "    }\n",
       "\n",
       "    .dataframe tbody tr th {\n",
       "        vertical-align: top;\n",
       "    }\n",
       "\n",
       "    .dataframe thead th {\n",
       "        text-align: right;\n",
       "    }\n",
       "</style>\n",
       "<table border=\"1\" class=\"dataframe\">\n",
       "  <thead>\n",
       "    <tr style=\"text-align: right;\">\n",
       "      <th></th>\n",
       "      <th>market_open</th>\n",
       "      <th>market_close</th>\n",
       "    </tr>\n",
       "  </thead>\n",
       "  <tbody>\n",
       "    <tr>\n",
       "      <th>2024-01-02</th>\n",
       "      <td>2024-01-02 13:01:00+00:00</td>\n",
       "      <td>2024-01-02 19:00:00+00:00</td>\n",
       "    </tr>\n",
       "    <tr>\n",
       "      <th>2024-01-03</th>\n",
       "      <td>2024-01-03 13:01:00+00:00</td>\n",
       "      <td>2024-01-03 19:00:00+00:00</td>\n",
       "    </tr>\n",
       "    <tr>\n",
       "      <th>2024-01-04</th>\n",
       "      <td>2024-01-04 13:01:00+00:00</td>\n",
       "      <td>2024-01-04 19:00:00+00:00</td>\n",
       "    </tr>\n",
       "    <tr>\n",
       "      <th>2024-01-05</th>\n",
       "      <td>2024-01-05 13:01:00+00:00</td>\n",
       "      <td>2024-01-05 19:00:00+00:00</td>\n",
       "    </tr>\n",
       "    <tr>\n",
       "      <th>2024-01-08</th>\n",
       "      <td>2024-01-08 13:01:00+00:00</td>\n",
       "      <td>2024-01-08 19:00:00+00:00</td>\n",
       "    </tr>\n",
       "    <tr>\n",
       "      <th>...</th>\n",
       "      <td>...</td>\n",
       "      <td>...</td>\n",
       "    </tr>\n",
       "    <tr>\n",
       "      <th>2024-12-20</th>\n",
       "      <td>2024-12-20 13:01:00+00:00</td>\n",
       "      <td>2024-12-20 19:00:00+00:00</td>\n",
       "    </tr>\n",
       "    <tr>\n",
       "      <th>2024-12-23</th>\n",
       "      <td>2024-12-23 13:01:00+00:00</td>\n",
       "      <td>2024-12-23 19:00:00+00:00</td>\n",
       "    </tr>\n",
       "    <tr>\n",
       "      <th>2024-12-26</th>\n",
       "      <td>2024-12-26 13:01:00+00:00</td>\n",
       "      <td>2024-12-26 19:00:00+00:00</td>\n",
       "    </tr>\n",
       "    <tr>\n",
       "      <th>2024-12-27</th>\n",
       "      <td>2024-12-27 13:01:00+00:00</td>\n",
       "      <td>2024-12-27 19:00:00+00:00</td>\n",
       "    </tr>\n",
       "    <tr>\n",
       "      <th>2024-12-30</th>\n",
       "      <td>2024-12-30 13:01:00+00:00</td>\n",
       "      <td>2024-12-30 19:00:00+00:00</td>\n",
       "    </tr>\n",
       "  </tbody>\n",
       "</table>\n",
       "<p>252 rows × 2 columns</p>\n",
       "</div>"
      ],
      "text/plain": [
       "                         market_open              market_close\n",
       "2024-01-02 2024-01-02 13:01:00+00:00 2024-01-02 19:00:00+00:00\n",
       "2024-01-03 2024-01-03 13:01:00+00:00 2024-01-03 19:00:00+00:00\n",
       "2024-01-04 2024-01-04 13:01:00+00:00 2024-01-04 19:00:00+00:00\n",
       "2024-01-05 2024-01-05 13:01:00+00:00 2024-01-05 19:00:00+00:00\n",
       "2024-01-08 2024-01-08 13:01:00+00:00 2024-01-08 19:00:00+00:00\n",
       "...                              ...                       ...\n",
       "2024-12-20 2024-12-20 13:01:00+00:00 2024-12-20 19:00:00+00:00\n",
       "2024-12-23 2024-12-23 13:01:00+00:00 2024-12-23 19:00:00+00:00\n",
       "2024-12-26 2024-12-26 13:01:00+00:00 2024-12-26 19:00:00+00:00\n",
       "2024-12-27 2024-12-27 13:01:00+00:00 2024-12-27 19:00:00+00:00\n",
       "2024-12-30 2024-12-30 13:01:00+00:00 2024-12-30 19:00:00+00:00\n",
       "\n",
       "[252 rows x 2 columns]"
      ]
     },
     "metadata": {},
     "output_type": "display_data"
    }
   ],
   "source": [
    "import pandas_market_calendars as mcal\n",
    "\n",
    "calendario = mcal.get_calendar(\"BMF\")\n",
    "dias_negociacao_2024 = calendario.schedule(start_date=\"2024-01-01\", end_date=\"2024-12-31\")\n",
    "display(dias_negociacao_2024)"
   ]
  }
 ],
 "metadata": {
  "kernelspec": {
   "display_name": "base",
   "language": "python",
   "name": "python3"
  },
  "language_info": {
   "codemirror_mode": {
    "name": "ipython",
    "version": 3
   },
   "file_extension": ".py",
   "mimetype": "text/x-python",
   "name": "python",
   "nbconvert_exporter": "python",
   "pygments_lexer": "ipython3",
   "version": "3.11.6"
  }
 },
 "nbformat": 4,
 "nbformat_minor": 2
}
